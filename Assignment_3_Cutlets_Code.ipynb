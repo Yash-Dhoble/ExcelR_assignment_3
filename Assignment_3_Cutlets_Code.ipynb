{
 "cells": [
  {
   "cell_type": "markdown",
   "id": "d436e822",
   "metadata": {},
   "source": [
    "# Hypothesis testing for size of cutlets \n",
    "## H0= There is a no difference in size of cutlets\n",
    "## H1= There is a significant difference in size of cutlets"
   ]
  },
  {
   "cell_type": "code",
   "execution_count": 1,
   "id": "31f330a4",
   "metadata": {
    "ExecuteTime": {
     "end_time": "2023-02-23T06:04:13.732523Z",
     "start_time": "2023-02-23T06:04:11.753528Z"
    }
   },
   "outputs": [],
   "source": [
    "import pandas as pd\n",
    "import scipy\n",
    "from scipy import stats"
   ]
  },
  {
   "cell_type": "code",
   "execution_count": 2,
   "id": "978cb48c",
   "metadata": {
    "ExecuteTime": {
     "end_time": "2023-02-23T06:04:13.780520Z",
     "start_time": "2023-02-23T06:04:13.735492Z"
    }
   },
   "outputs": [],
   "source": [
    "data= pd.read_csv('Cutlets.csv')\n",
    "data_1=data['Unit A']\n",
    "data_2=data['Unit B']"
   ]
  },
  {
   "cell_type": "markdown",
   "id": "36629664",
   "metadata": {},
   "source": [
    "## Using 2 propotion T test"
   ]
  },
  {
   "cell_type": "code",
   "execution_count": 3,
   "id": "c30c7ec0",
   "metadata": {
    "ExecuteTime": {
     "end_time": "2023-02-23T06:04:14.190521Z",
     "start_time": "2023-02-23T06:04:13.783527Z"
    }
   },
   "outputs": [
    {
     "data": {
      "text/plain": [
       "Ttest_indResult(statistic=0.7228688704678063, pvalue=0.4722394724599501)"
      ]
     },
     "execution_count": 3,
     "metadata": {},
     "output_type": "execute_result"
    }
   ],
   "source": [
    "stats.ttest_ind(data_1,data_2,random_state='0.05')"
   ]
  },
  {
   "cell_type": "markdown",
   "id": "9da74949",
   "metadata": {
    "ExecuteTime": {
     "end_time": "2023-01-12T04:20:53.937626Z",
     "start_time": "2023-01-12T04:20:53.921626Z"
    }
   },
   "source": [
    "## As p value is greater than 0.05 we accept the null hypothesis "
   ]
  }
 ],
 "metadata": {
  "kernelspec": {
   "display_name": "Python 3 (ipykernel)",
   "language": "python",
   "name": "python3"
  },
  "language_info": {
   "codemirror_mode": {
    "name": "ipython",
    "version": 3
   },
   "file_extension": ".py",
   "mimetype": "text/x-python",
   "name": "python",
   "nbconvert_exporter": "python",
   "pygments_lexer": "ipython3",
   "version": "3.9.7"
  }
 },
 "nbformat": 4,
 "nbformat_minor": 5
}
